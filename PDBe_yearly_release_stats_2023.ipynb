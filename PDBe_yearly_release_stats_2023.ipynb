{
  "nbformat": 4,
  "nbformat_minor": 0,
  "metadata": {
    "colab": {
      "provenance": [],
      "include_colab_link": true
    },
    "kernelspec": {
      "name": "python3",
      "display_name": "Python 3"
    },
    "language_info": {
      "name": "python"
    }
  },
  "cells": [
    {
      "cell_type": "markdown",
      "metadata": {
        "id": "view-in-github",
        "colab_type": "text"
      },
      "source": [
        "<a href=\"https://colab.research.google.com/github/glevans/pdbe-api-training/blob/master/PDBe_yearly_release_stats_2023.ipynb\" target=\"_parent\"><img src=\"https://colab.research.google.com/assets/colab-badge.svg\" alt=\"Open In Colab\"/></a>"
      ]
    },
    {
      "cell_type": "markdown",
      "source": [
        "Making imports and setting global variables"
      ],
      "metadata": {
        "id": "kNYIFX4BWDkI"
      }
    },
    {
      "cell_type": "code",
      "execution_count": null,
      "metadata": {
        "colab": {
          "base_uri": "https://localhost:8080/"
        },
        "id": "gx-D8MP6V8lT",
        "outputId": "9fd271fb-0b44-4940-c317-c2facd5f18f8"
      },
      "outputs": [
        {
          "output_type": "stream",
          "name": "stdout",
          "text": [
            "Looking in indexes: https://pypi.org/simple, https://us-python.pkg.dev/colab-wheels/public/simple/\n",
            "Collecting solrq\n",
            "  Downloading solrq-1.1.2-py2.py3-none-any.whl (9.3 kB)\n",
            "Installing collected packages: solrq\n",
            "Successfully installed solrq-1.1.2\n"
          ]
        }
      ],
      "source": [
        "import requests # used for getting data from a URL\n",
        "from pprint import pprint # pretty print\n",
        "import pandas as pd # used for turning results into mini databases\n",
        "!pip install solrq\n",
        "from solrq import Q # used to turn result queries into the right format\n",
        "import numpy as np\n",
        "\n",
        "search_url = \"https://www.ebi.ac.uk/pdbe/search/pdb/select?\" # the rest of the URL used for PDBe's search API.\n"
      ]
    },
    {
      "cell_type": "markdown",
      "source": [
        "A function to get data from PDBe's search API"
      ],
      "metadata": {
        "id": "YmxWGyCtWD56"
      }
    },
    {
      "cell_type": "code",
      "source": [
        "def make_request(search_dict, number_of_rows=10, group_pdb=False):\n",
        "    \"\"\"\n",
        "    makes a get request to the PDBe API\n",
        "    :param dict search_dict: the terms used to search\n",
        "    :param number_of_rows: number or rows to return - limited to 10\n",
        "    :return dict: response JSON\n",
        "    \"\"\"\n",
        "    if 'rows' not in search_dict:\n",
        "        search_dict['rows'] = number_of_rows\n",
        "    search_dict['wt'] = 'json'\n",
        "    if group_pdb == True:\n",
        "      search_dict['group'] = 'true'\n",
        "      search_dict['group.field'] = 'pdb_id'\n",
        "      search_dict['group.ngroups'] = 'true'\n",
        "    pprint(search_dict)\n",
        "    pprint(search_url)\n",
        "    response = requests.post(search_url, data=search_dict)\n",
        "\n",
        "    if response.status_code == 200:\n",
        "        return response.json()\n",
        "    else:\n",
        "        print(\"[No data retrieved - %s] %s\" % (response.status_code, response.text))\n",
        "\n",
        "    return {}"
      ],
      "metadata": {
        "id": "15Yq6VqjWEP9"
      },
      "execution_count": null,
      "outputs": []
    },
    {
      "cell_type": "markdown",
      "source": [
        "Formatting the search terms\n",
        "This will allow us to use human readable search terms and this function will make a URL that the search API can handle."
      ],
      "metadata": {
        "id": "yqlOgsAxaiQP"
      }
    },
    {
      "cell_type": "code",
      "source": [
        "def format_search_terms(search_terms, filter_terms=None):\n",
        "    ret = {'q': str(search_terms)}\n",
        "    if filter_terms:\n",
        "        fl = '{}'.format(','.join(filter_terms))\n",
        "        ret['fl'] = fl\n",
        "    return ret"
      ],
      "metadata": {
        "id": "75t3QSeKaijH"
      },
      "execution_count": null,
      "outputs": []
    },
    {
      "cell_type": "markdown",
      "source": [
        "Getting useful data out of the search\n",
        "This function will run the search and will return a list of the results\n",
        "Two versions - one returning entity results, the other grouping by PDB ID"
      ],
      "metadata": {
        "id": "wgFlAB1tWEtB"
      }
    },
    {
      "cell_type": "code",
      "source": [
        "def run_search(search_terms, filter_terms=None, number_of_rows=100, group_pdb=False):\n",
        "    search_term = format_search_terms(search_terms, filter_terms)\n",
        "    #print(search_term)\n",
        "    response = make_request(search_term, number_of_rows, group_pdb)\n",
        "    results = response.get('response', {}).get('docs', [])\n",
        "    #results = response.get('response', {}).get('docs', [])\n",
        "    #print('Number of results: {}'.format(len(results)))\n",
        "    return results\n",
        "    #return response"
      ],
      "metadata": {
        "id": "eQVXB5IwWFAe"
      },
      "execution_count": null,
      "outputs": []
    },
    {
      "cell_type": "code",
      "source": [
        "def run_grouped_search(search_terms, filter_terms=None, number_of_rows=100, group_pdb=True):\n",
        "    search_term = format_search_terms(search_terms, filter_terms)\n",
        "    #print(search_term)\n",
        "    response = make_request(search_term, number_of_rows, group_pdb)\n",
        "    preresults = response.get('grouped', {}).get('pdb_id', {}).get('groups', [])\n",
        "    results = []\n",
        "    for group in preresults:\n",
        "      docs = group.get('doclist', {}).get('docs', [])\n",
        "      for doc in docs:\n",
        "        results.append(doc)\n",
        "    #print('Number of results: {}'.format(len(results)))\n",
        "    return results"
      ],
      "metadata": {
        "id": "fUNdpF7xWzzc"
      },
      "execution_count": null,
      "outputs": []
    },
    {
      "cell_type": "markdown",
      "source": [
        "Search for released entries by year:\n",
        "(added filtering to get back only fields interesting in this notebook)"
      ],
      "metadata": {
        "id": "Sl8QRuGpWGsa"
      }
    },
    {
      "cell_type": "code",
      "source": [
        "search_terms = Q(status=\"REL\", release_year=2023)\n",
        "filter_terms = ['pdb_id', 'experimental_method', 'resolution', 'em_resolution', 'journal', 'refinement_software', 'synchrotron_site', 'em_electron_detection', 'cath_homologous_superfamily', 'assembly_composition', 'processing_site']\n",
        "#all_results = run_search(search_terms, filter_terms, number_of_rows=100, group_pdb=False)\n",
        "results = run_grouped_search(search_terms, filter_terms, number_of_rows=20000, group_pdb=True)\n",
        "pprint(results[:5])"
      ],
      "metadata": {
        "colab": {
          "base_uri": "https://localhost:8080/"
        },
        "id": "Xiita6ENWFeX",
        "outputId": "5d756455-88a2-4b77-e23e-3494836ff5d1"
      },
      "execution_count": null,
      "outputs": [
        {
          "output_type": "stream",
          "name": "stdout",
          "text": [
            "{'fl': 'pdb_id,experimental_method,resolution,em_resolution,journal,refinement_software,synchrotron_site,em_electron_detection,cath_homologous_superfamily,assembly_composition,processing_site',\n",
            " 'group': 'true',\n",
            " 'group.field': 'pdb_id',\n",
            " 'group.ngroups': 'true',\n",
            " 'q': 'status:REL AND release_year:2022',\n",
            " 'rows': 20000,\n",
            " 'wt': 'json'}\n",
            "'https://www.ebi.ac.uk/pdbe/search/pdb/select?'\n",
            "[{'assembly_composition': ['RNA/protein complex'],\n",
            "  'experimental_method': ['X-ray diffraction'],\n",
            "  'journal': 'Nat Chem Biol',\n",
            "  'pdb_id': '6xjw',\n",
            "  'processing_site': 'RCSB',\n",
            "  'refinement_software': ['PHENIX'],\n",
            "  'resolution': 1.918,\n",
            "  'synchrotron_site': ['APS']},\n",
            " {'assembly_composition': ['protein structure'],\n",
            "  'experimental_method': ['X-ray diffraction'],\n",
            "  'journal': 'Nat Catal',\n",
            "  'pdb_id': '6ywu',\n",
            "  'processing_site': 'PDBE',\n",
            "  'refinement_software': ['REFMAC'],\n",
            "  'resolution': 1.1,\n",
            "  'synchrotron_site': ['PETRA III, EMBL c/o DESY']},\n",
            " {'assembly_composition': ['protein structure'],\n",
            "  'experimental_method': ['X-ray diffraction'],\n",
            "  'journal': 'Nat Catal',\n",
            "  'pdb_id': '6ywt',\n",
            "  'processing_site': 'PDBE',\n",
            "  'refinement_software': ['REFMAC'],\n",
            "  'resolution': 1.05,\n",
            "  'synchrotron_site': ['PETRA III, EMBL c/o DESY']},\n",
            " {'assembly_composition': ['protein/protein complex'],\n",
            "  'experimental_method': ['X-ray diffraction'],\n",
            "  'journal': 'Eur J Immunol',\n",
            "  'pdb_id': '6zkx',\n",
            "  'processing_site': 'PDBE',\n",
            "  'refinement_software': ['REFMAC'],\n",
            "  'resolution': 2.17,\n",
            "  'synchrotron_site': ['Diamond']},\n",
            " {'assembly_composition': ['RNA/protein complex'],\n",
            "  'experimental_method': ['X-ray diffraction'],\n",
            "  'journal': 'Nat Chem Biol',\n",
            "  'pdb_id': '6xjq',\n",
            "  'processing_site': 'RCSB',\n",
            "  'refinement_software': ['PHENIX'],\n",
            "  'resolution': 1.708,\n",
            "  'synchrotron_site': ['APS']}]\n"
          ]
        }
      ]
    },
    {
      "cell_type": "markdown",
      "source": [
        "Change lists to strings to help with graphing"
      ],
      "metadata": {
        "id": "XN9VdebgWF9I"
      }
    },
    {
      "cell_type": "code",
      "source": [
        "def change_lists_to_strings(results):\n",
        "    \"\"\"\n",
        "    input - list of results from search\n",
        "    output - list of results with lists changed into strings\n",
        "    \"\"\"\n",
        "    for row in results:\n",
        "        for data in row:\n",
        "            if type(row[data]) == list:\n",
        "                # if there are any numbers in the list change them into strings\n",
        "                row[data] = [str(a) for a in row[data]]\n",
        "                # unique and sort the list and then change the list into a string\n",
        "                row[data] = ','.join(sorted(list(set(row[data]))))\n",
        "\n",
        "    return results"
      ],
      "metadata": {
        "id": "qYGpFVGCWH3a"
      },
      "execution_count": null,
      "outputs": []
    },
    {
      "cell_type": "markdown",
      "source": [
        "We can use a Python package called Pandas to change the results into a mini database - called a DataFrame."
      ],
      "metadata": {
        "id": "nHbSzGEYWFRa"
      }
    },
    {
      "cell_type": "code",
      "source": [
        "def pandas_dataset(list_of_results):\n",
        "    results = change_lists_to_strings(list_of_results) # we have added our function to change lists to strings\n",
        "    df = pd.DataFrame(results)\n",
        "\n",
        "    return df"
      ],
      "metadata": {
        "id": "Y0y_tXSVW3g5"
      },
      "execution_count": null,
      "outputs": []
    },
    {
      "cell_type": "markdown",
      "source": [
        "Functions to count results and plot them on a graph"
      ],
      "metadata": {
        "id": "OVHgmGZHW3_l"
      }
    },
    {
      "cell_type": "code",
      "source": [
        "def pandas_count(list_of_results, column_to_group_by):\n",
        "    df = pandas_dataset(list_of_results)\n",
        "    ds = df.groupby(column_to_group_by)['pdb_id'].nunique().sort_values(ascending=False)\n",
        "    return ds\n",
        "\n",
        "def pandas_plot(list_of_results, column_to_group_by, graph_type='bar', top10=False):\n",
        "    ds = pandas_count(list_of_results=list_of_results, column_to_group_by=column_to_group_by)\n",
        "    if top10 == True:\n",
        "      ds = ds.iloc[:10]\n",
        "    ds.plot(kind=graph_type)\n",
        "\n",
        "def pandas_plot_top10(list_of_results, column_to_group_by, graph_type='bar'):\n",
        "    ds = pandas_count(list_of_results=list_of_results, column_to_group_by=column_to_group_by)\n",
        "    ds = ds.iloc[:10]\n",
        "    ds.plot(kind=graph_type)\n",
        "\n",
        "def pandas_mean_plot(list_of_results, column_to_group_by, graph_type='bar'):\n",
        "    df = pandas_dataset(list_of_results)\n",
        "    df.groupby(column_to_group_by).mean().plot(kind=graph_type)\n"
      ],
      "metadata": {
        "id": "7SmF2cnZW4eE"
      },
      "execution_count": null,
      "outputs": []
    },
    {
      "cell_type": "markdown",
      "source": [
        "Basic plotting of experimental method per year"
      ],
      "metadata": {
        "id": "iSWXKm4dW4xV"
      }
    },
    {
      "cell_type": "code",
      "source": [
        "pandas_plot(list_of_results=results, column_to_group_by='experimental_method', graph_type='barh')"
      ],
      "metadata": {
        "colab": {
          "base_uri": "https://localhost:8080/",
          "height": 265
        },
        "id": "1HlhOESzW5-i",
        "outputId": "4c0ce120-d85a-49dd-b7d5-26a76a25efb0"
      },
      "execution_count": null,
      "outputs": [
        {
          "output_type": "display_data",
          "data": {
            "text/plain": [
              "<Figure size 432x288 with 1 Axes>"
            ],
            "image/png": "[encoded data removed]"
          },
          "metadata": {
            "needs_background": "light"
          }
        }
      ]
    },
    {
      "cell_type": "markdown",
      "source": [
        "Basic plotting of journals per year"
      ],
      "metadata": {
        "id": "OR2oh_BCW6YV"
      }
    },
    {
      "cell_type": "code",
      "source": [
        "pandas_plot(list_of_results=results, column_to_group_by='journal', graph_type='barh', top10=True)"
      ],
      "metadata": {
        "colab": {
          "base_uri": "https://localhost:8080/",
          "height": 265
        },
        "id": "ZRN6ZQynW6_i",
        "outputId": "7843cc9d-c1ca-40cf-9827-f507bb1ddb89"
      },
      "execution_count": null,
      "outputs": [
        {
          "output_type": "display_data",
          "data": {
            "text/plain": [
              "<Figure size 432x288 with 1 Axes>"
            ],
            "image/png": "[encoded data removed]"
          },
          "metadata": {
            "needs_background": "light"
          }
        }
      ]
    },
    {
      "cell_type": "markdown",
      "source": [
        "Basic plotting of refinement_software per year"
      ],
      "metadata": {
        "id": "DvvUZ-z_W7My"
      }
    },
    {
      "cell_type": "code",
      "source": [
        "pandas_plot(list_of_results=results, column_to_group_by='refinement_software', graph_type='barh', top10=True)"
      ],
      "metadata": {
        "colab": {
          "base_uri": "https://localhost:8080/",
          "height": 265
        },
        "id": "HHiiyZjUZDnK",
        "outputId": "fbe783ec-c4c3-4feb-acbe-312a1a952e19"
      },
      "execution_count": null,
      "outputs": [
        {
          "output_type": "display_data",
          "data": {
            "text/plain": [
              "<Figure size 432x288 with 1 Axes>"
            ],
            "image/png": "[encoded data removed]"
          },
          "metadata": {
            "needs_background": "light"
          }
        }
      ]
    },
    {
      "cell_type": "markdown",
      "source": [
        "Basic plotting of synchrotron_site per year"
      ],
      "metadata": {
        "id": "nOWUI7LTZD2c"
      }
    },
    {
      "cell_type": "code",
      "source": [
        "pandas_plot(list_of_results=results, column_to_group_by='synchrotron_site', graph_type='barh', top10=True)"
      ],
      "metadata": {
        "colab": {
          "base_uri": "https://localhost:8080/",
          "height": 265
        },
        "id": "WZRLON4MZENf",
        "outputId": "4466fe72-2fc0-4add-b54e-b4d52e0950cb"
      },
      "execution_count": null,
      "outputs": [
        {
          "output_type": "display_data",
          "data": {
            "text/plain": [
              "<Figure size 432x288 with 1 Axes>"
            ],
            "image/png": "[encoded data removed]"
          },
          "metadata": {
            "needs_background": "light"
          }
        }
      ]
    },
    {
      "cell_type": "markdown",
      "source": [
        "Basic plotting of em_electron_detection per year"
      ],
      "metadata": {
        "id": "YXJrageVZEY1"
      }
    },
    {
      "cell_type": "code",
      "source": [
        "pandas_plot(list_of_results=results, column_to_group_by='em_electron_detection', graph_type='barh', top10=True)"
      ],
      "metadata": {
        "colab": {
          "base_uri": "https://localhost:8080/",
          "height": 265
        },
        "id": "_HDV8ZsOZFaq",
        "outputId": "59641595-4e0f-43ea-e293-c7301838b4c8"
      },
      "execution_count": null,
      "outputs": [
        {
          "output_type": "display_data",
          "data": {
            "text/plain": [
              "<Figure size 432x288 with 1 Axes>"
            ],
            "image/png": "[encoded data removed]"
          },
          "metadata": {
            "needs_background": "light"
          }
        }
      ]
    },
    {
      "cell_type": "markdown",
      "source": [
        "Basic plotting of assembly_composition per year"
      ],
      "metadata": {
        "id": "nG10OWpyZGSf"
      }
    },
    {
      "cell_type": "code",
      "source": [
        "pandas_plot(list_of_results=results, column_to_group_by='assembly_composition', graph_type='barh', top10=True)"
      ],
      "metadata": {
        "colab": {
          "base_uri": "https://localhost:8080/",
          "height": 265
        },
        "id": "pSUWbrRRZy4c",
        "outputId": "73bc06db-9dc3-435a-93e8-3e1adb1bc625"
      },
      "execution_count": null,
      "outputs": [
        {
          "output_type": "display_data",
          "data": {
            "text/plain": [
              "<Figure size 432x288 with 1 Axes>"
            ],
            "image/png": "[encoded data removed]"
          },
          "metadata": {
            "needs_background": "light"
          }
        }
      ]
    },
    {
      "cell_type": "markdown",
      "source": [
        "Basic plotting of processing_site per year"
      ],
      "metadata": {
        "id": "pVl5TPiTZzM7"
      }
    },
    {
      "cell_type": "code",
      "source": [
        "pandas_plot(list_of_results=results, column_to_group_by='processing_site')"
      ],
      "metadata": {
        "colab": {
          "base_uri": "https://localhost:8080/",
          "height": 298
        },
        "id": "IynRqjVlZ0UJ",
        "outputId": "14ec4ef2-57c0-4f1e-807c-8fb56d955fec"
      },
      "execution_count": null,
      "outputs": [
        {
          "output_type": "display_data",
          "data": {
            "text/plain": [
              "<Figure size 432x288 with 1 Axes>"
            ],
            "image/png": "[encoded data removed]"
          },
          "metadata": {
            "needs_background": "light"
          }
        }
      ]
    },
    {
      "cell_type": "markdown",
      "source": [
        "Setting up new search for only X-ray"
      ],
      "metadata": {
        "id": "KDaLhLawZ0gT"
      }
    },
    {
      "cell_type": "code",
      "source": [
        "search_terms = Q(status=\"REL\", release_year=2023, experimental_method='X-ray diffraction')\n",
        "filter_terms = ['pdb_id','resolution']\n",
        "#all_results = run_search(search_terms, filter_terms, number_of_rows=100, group_pdb=False)\n",
        "xray_results = run_grouped_search(search_terms, filter_terms, number_of_rows=20000, group_pdb=True)\n",
        "pprint(xray_results[:5])"
      ],
      "metadata": {
        "colab": {
          "base_uri": "https://localhost:8080/"
        },
        "id": "dF-cU_KAZ00X",
        "outputId": "fa560fbd-fd5d-44f0-a6f0-48630e77a86f"
      },
      "execution_count": null,
      "outputs": [
        {
          "output_type": "stream",
          "name": "stdout",
          "text": [
            "{'fl': 'pdb_id,resolution',\n",
            " 'group': 'true',\n",
            " 'group.field': 'pdb_id',\n",
            " 'group.ngroups': 'true',\n",
            " 'q': 'status:REL AND release_year:2022 AND experimental_method:X\\\\-ray\\\\ '\n",
            "      'diffraction',\n",
            " 'rows': 20000,\n",
            " 'wt': 'json'}\n",
            "'https://www.ebi.ac.uk/pdbe/search/pdb/select?'\n",
            "[{'pdb_id': '6xjw', 'resolution': 1.918},\n",
            " {'pdb_id': '6ywu', 'resolution': 1.1},\n",
            " {'pdb_id': '6ywt', 'resolution': 1.05},\n",
            " {'pdb_id': '6zkx', 'resolution': 2.17},\n",
            " {'pdb_id': '6xjq', 'resolution': 1.708}]\n"
          ]
        }
      ]
    },
    {
      "cell_type": "markdown",
      "source": [
        "Setting function to plotted binned data"
      ],
      "metadata": {
        "id": "ewXWrJE5iOnx"
      }
    },
    {
      "cell_type": "code",
      "source": [
        "def pandas_plot_binned(list_of_results, column_to_group_by, bin_cat, bin_range, graph_type='bar'):\n",
        "    df = pandas_dataset(list_of_results)\n",
        "    df[bin_cat] = pd.cut(df[column_to_group_by],bin_range)\n",
        "    #print(df.head(5))\n",
        "    ds = df.groupby(bin_cat)['pdb_id'].nunique()\n",
        "    #print(ds)\n",
        "    ds.plot(kind=graph_type)\n"
      ],
      "metadata": {
        "id": "atglOY9siPGp"
      },
      "execution_count": null,
      "outputs": []
    },
    {
      "cell_type": "markdown",
      "source": [
        "Plot X-ray resolution by bins"
      ],
      "metadata": {
        "id": "6GSbWgs2Z0-s"
      }
    },
    {
      "cell_type": "code",
      "source": [
        "bin_cat = 'X-ray resolution range'\n",
        "bin_range = [0, 1, 1.5, 2, 2.5, 3, 3.5, 4, 10]\n",
        "pandas_plot_binned(list_of_results=xray_results, column_to_group_by='resolution', bin_cat=bin_cat, bin_range=bin_range)"
      ],
      "metadata": {
        "colab": {
          "base_uri": "https://localhost:8080/",
          "height": 321
        },
        "id": "W07YBmapZ1P-",
        "outputId": "b5d795d2-1fee-4cc1-de76-d46c360316b4"
      },
      "execution_count": null,
      "outputs": [
        {
          "output_type": "display_data",
          "data": {
            "text/plain": [
              "<Figure size 432x288 with 1 Axes>"
            ],
            "image/png": "[encoded data removed]"
          },
          "metadata": {
            "needs_background": "light"
          }
        }
      ]
    },
    {
      "cell_type": "markdown",
      "source": [
        "Setting up new search for only EM"
      ],
      "metadata": {
        "id": "OPWNVFXhZ1aV"
      }
    },
    {
      "cell_type": "code",
      "source": [
        "search_terms = Q(status=\"REL\", release_year=2023, experimental_method='Electron Microscopy')\n",
        "filter_terms = ['pdb_id','em_resolution']\n",
        "#all_results = run_search(search_terms, filter_terms, number_of_rows=100, group_pdb=False)\n",
        "em_results = run_grouped_search(search_terms, filter_terms, number_of_rows=10000, group_pdb=True)\n",
        "pprint(em_results[:5])"
      ],
      "metadata": {
        "colab": {
          "base_uri": "https://localhost:8080/"
        },
        "id": "vC1nI0V0keX-",
        "outputId": "9710d0dc-d611-4154-ac77-fff7eaba87dd"
      },
      "execution_count": null,
      "outputs": [
        {
          "output_type": "stream",
          "name": "stdout",
          "text": [
            "{'fl': 'pdb_id,em_resolution',\n",
            " 'group': 'true',\n",
            " 'group.field': 'pdb_id',\n",
            " 'group.ngroups': 'true',\n",
            " 'q': 'status:REL AND release_year:2022 AND experimental_method:Electron\\\\ '\n",
            "      'Microscopy',\n",
            " 'rows': 10000,\n",
            " 'wt': 'json'}\n",
            "'https://www.ebi.ac.uk/pdbe/search/pdb/select?'\n",
            "[{'em_resolution': [3.0], 'pdb_id': '6xn3'},\n",
            " {'em_resolution': [2.97], 'pdb_id': '6xn5'},\n",
            " {'em_resolution': [2.8], 'pdb_id': '7b5i'},\n",
            " {'em_resolution': [2.7], 'pdb_id': '7ban'},\n",
            " {'em_resolution': [7.2], 'pdb_id': '7b4m'}]\n"
          ]
        }
      ]
    },
    {
      "cell_type": "markdown",
      "source": [],
      "metadata": {
        "id": "EmsR1fmhpp1K"
      }
    },
    {
      "cell_type": "code",
      "source": [
        "def pandas_plot_binned_float(list_of_results, column_to_group_by, bin_cat, bin_range, graph_type='bar'):\n",
        "    df = pandas_dataset(list_of_results)\n",
        "    df[column_to_group_by] = pd.to_numeric(df[column_to_group_by])\n",
        "    df[bin_cat] = pd.cut(df[column_to_group_by],bin_range)\n",
        "    #print(df.head(5))\n",
        "    ds = df.groupby(bin_cat)['pdb_id'].nunique()\n",
        "    #print(ds)\n",
        "    ds.plot(kind=graph_type)\n"
      ],
      "metadata": {
        "id": "0SLeLS66pqJe"
      },
      "execution_count": null,
      "outputs": []
    },
    {
      "cell_type": "markdown",
      "source": [
        "Plot EM resolution by bins"
      ],
      "metadata": {
        "id": "tzVw-auUkeqb"
      }
    },
    {
      "cell_type": "code",
      "source": [
        "bin_cat = 'EM resolution range'\n",
        "bin_range = [-float(\"inf\"), 2, 2.5, 3, 3.5, 4, 4.5, 5, float(\"inf\")]\n",
        "pandas_plot_binned_float(list_of_results=em_results, column_to_group_by='em_resolution', bin_cat=bin_cat, bin_range=bin_range)"
      ],
      "metadata": {
        "colab": {
          "base_uri": "https://localhost:8080/",
          "height": 316
        },
        "id": "hvia5_NPkfBD",
        "outputId": "4765f964-86c4-4c61-c3de-a03505bbbfb0"
      },
      "execution_count": null,
      "outputs": [
        {
          "output_type": "display_data",
          "data": {
            "text/plain": [
              "<Figure size 432x288 with 1 Axes>"
            ],
            "image/png": "[encoded data removed]"
          },
          "metadata": {
            "needs_background": "light"
          }
        }
      ]
    },
    {
      "cell_type": "markdown",
      "source": [],
      "metadata": {
        "id": "w4fHdt8IkfQK"
      }
    }
  ]
}